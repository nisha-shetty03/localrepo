{
 "cells": [
  {
   "cell_type": "code",
   "execution_count": null,
   "id": "0ebc4927",
   "metadata": {},
   "outputs": [],
   "source": [
    "import matplotlib.pyplot as plt\n",
    "%matplotlib inline\n",
    "from sklearn.datasets import load_digits\n",
    "digits = load_digits()\n",
    "dir(digits)\n",
    "digits.data[0]"
   ]
  },
  {
   "cell_type": "code",
   "execution_count": null,
   "id": "367c25d7",
   "metadata": {},
   "outputs": [],
   "source": [
    "plt.gray()\n",
    "for i in range(5):\n",
    "    plt.matshow(digits.images[i])"
   ]
  },
  {
   "cell_type": "code",
   "execution_count": null,
   "id": "d703a724",
   "metadata": {},
   "outputs": [],
   "source": [
    "digits.target[0:5]\n",
    "#to check digits shown in the image "
   ]
  },
  {
   "cell_type": "code",
   "execution_count": null,
   "id": "8e1a0990",
   "metadata": {},
   "outputs": [],
   "source": [
    "from sklearn .model_selection import train_test_split\n",
    "X_train,X_test,y_train,y_test=train_test_split(digits.data,digits.target,test_size=0.2)"
   ]
  },
  {
   "cell_type": "code",
   "execution_count": null,
   "id": "c8d84827",
   "metadata": {},
   "outputs": [],
   "source": [
    "from sklearn.linear_model import LogisticRegression\n",
    "model = LogisticRegression()\n",
    "model.fit(X_train,y_train)"
   ]
  },
  {
   "cell_type": "code",
   "execution_count": null,
   "id": "a1836a17",
   "metadata": {},
   "outputs": [],
   "source": [
    "model.score(X_test,y_test)\n",
    "#to check accuracy percentage"
   ]
  },
  {
   "cell_type": "code",
   "execution_count": null,
   "id": "66c80d7c",
   "metadata": {},
   "outputs": [],
   "source": [
    "plt.matshow(digits.images[67])"
   ]
  },
  {
   "cell_type": "code",
   "execution_count": null,
   "id": "217dcef4",
   "metadata": {},
   "outputs": [],
   "source": [
    "digits.target[67]"
   ]
  },
  {
   "cell_type": "code",
   "execution_count": null,
   "id": "650f4679",
   "metadata": {},
   "outputs": [],
   "source": [
    "model.predict([digits.data[67]])"
   ]
  },
  {
   "cell_type": "code",
   "execution_count": null,
   "id": "dae843eb",
   "metadata": {},
   "outputs": [],
   "source": [
    "#generate confussion matrix to evaluate prediction accuracy for each digit\n",
    "y_predicted=model.predict(X_test)\n",
    "from sklearn.metrics import confusion_matrix\n",
    "cm=confusion_matrix(y_test,y_predicted)\n",
    "cm\n"
   ]
  },
  {
   "cell_type": "code",
   "execution_count": null,
   "id": "88d0b329",
   "metadata": {},
   "outputs": [],
   "source": [
    "#Each cell shown the number of times a true digit(rows) was predicted as a certain digit(columns)\n",
    "import seaborn as sn\n",
    "plt.figure(figsize=(10,7))\n",
    "sn.heatmap(cm,annot=True)\n",
    "plt.xlabel('Predicted')\n",
    "plt.ylabel('Truth')"
   ]
  }
 ],
 "metadata": {
  "kernelspec": {
   "display_name": "Python 3",
   "language": "python",
   "name": "python3"
  },
  "language_info": {
   "codemirror_mode": {
    "name": "ipython",
    "version": 3
   },
   "file_extension": ".py",
   "mimetype": "text/x-python",
   "name": "python",
   "nbconvert_exporter": "python",
   "pygments_lexer": "ipython3",
   "version": "3.13.7"
  }
 },
 "nbformat": 4,
 "nbformat_minor": 5
}
