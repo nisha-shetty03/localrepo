{
 "cells": [
  {
   "cell_type": "code",
   "execution_count": null,
   "id": "390639ca",
   "metadata": {},
   "outputs": [],
   "source": [
    "import pandas as pd\n",
    "import numpy as np\n",
    "import matplotlib.pyplot as plt\n",
    "from sklearn import linear_model"
   ]
  },
  {
   "cell_type": "code",
   "execution_count": null,
   "id": "bc63027e",
   "metadata": {},
   "outputs": [],
   "source": [
    "df = pd.read_csv(\"rent.CSV\")\n",
    "df \n",
    "\n"
   ]
  },
  {
   "cell_type": "code",
   "execution_count": null,
   "id": "bc7a1e8e",
   "metadata": {},
   "outputs": [],
   "source": [
    "%matplotlib inline\n",
    "plt.xlabel('area(sq ft)')\n",
    "plt.ylabel('price(US$)')\n",
    "plt.scatter(df.Area,df.price,color='red',marker='+')\n"
   ]
  },
  {
   "cell_type": "code",
   "execution_count": null,
   "id": "fbf087fd",
   "metadata": {},
   "outputs": [],
   "source": [
    "reg = linear_model.LinearRegression()\n",
    "reg.fit(df[['Area']],df.price)"
   ]
  },
  {
   "cell_type": "code",
   "execution_count": null,
   "id": "b0df5e6b",
   "metadata": {},
   "outputs": [],
   "source": [
    "reg.predict([[3200]])"
   ]
  },
  {
   "cell_type": "code",
   "execution_count": null,
   "id": "4d7217d3",
   "metadata": {},
   "outputs": [],
   "source": [
    "reg.coef_"
   ]
  },
  {
   "cell_type": "code",
   "execution_count": null,
   "id": "33c09489",
   "metadata": {},
   "outputs": [],
   "source": [
    "reg.intercept_"
   ]
  },
  {
   "cell_type": "code",
   "execution_count": null,
   "id": "6186df86",
   "metadata": {},
   "outputs": [],
   "source": [
    "135.78767123*3300+180616.43835616432\n"
   ]
  }
 ],
 "metadata": {
  "kernelspec": {
   "display_name": "Python 3",
   "language": "python",
   "name": "python3"
  },
  "language_info": {
   "codemirror_mode": {
    "name": "ipython",
    "version": 3
   },
   "file_extension": ".py",
   "mimetype": "text/x-python",
   "name": "python",
   "nbconvert_exporter": "python",
   "pygments_lexer": "ipython3",
   "version": "3.13.7"
  }
 },
 "nbformat": 4,
 "nbformat_minor": 5
}
